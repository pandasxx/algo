{
 "cells": [
  {
   "cell_type": "markdown",
   "metadata": {},
   "source": [
    "### Process predict results"
   ]
  },
  {
   "cell_type": "markdown",
   "metadata": {},
   "source": [
    "提取预测结果和标签"
   ]
  },
  {
   "cell_type": "code",
   "execution_count": 13,
   "metadata": {},
   "outputs": [
    {
     "name": "stdout",
     "output_type": "stream",
     "text": [
      "du  46278\n",
      "du  46366\n"
     ]
    }
   ],
   "source": [
    "import os\n",
    "from prediction_evaluate import *\n",
    "\n",
    "result_dir = \"/home/static-data/Develop/algo/yolo-pre-trained/darknet/results/results-95w-1019/100000batches\"\n",
    "#validata_dir = \"/home/tsimage/tct_data_for_darknet/test_new\"\n",
    "validata_file = \"/home/super-speed-data/train-data-yolov3/20181016/valid_ready.txt\"\n",
    "#classes = [\"ASCUS\", \"LSIL\", \"ASCH\", \"HSIL\", \"SCC\", \"AGC1\", \"AGC2\", \n",
    "#          \"ADC\", \"EC\", \"FUNGI\", \"TRI\", \"CC\", \"ACTINO\", \"VIRUS\"]\n",
    "# classes = [\"ASCUS\", \"LSIL\", \"ASCH\", \"HSIL\", \"SCC\"]\n",
    "classes = [\"ASCUS\", \"LSIL\", \"ASCH\", \"HSIL\", \"SCC\", \"AGC\",\n",
    "           \"EC\", \"FUNGI\", \"TRI\", \"CC\", \"ACTINO\", \"VIRUS\"]\n",
    "\n",
    "dict_pic_info = get_predictions_result(result_dir, classes)\n",
    "dict_pic_label_box_info = get_labels_from_file(validata_file, classes)\n",
    "\n",
    "print(\"du \", len(dict_pic_info))\n",
    "print(\"du \", len(dict_pic_label_box_info))"
   ]
  },
  {
   "cell_type": "markdown",
   "metadata": {},
   "source": [
    "比较结果和标签，得出性能评价"
   ]
  },
  {
   "cell_type": "code",
   "execution_count": 14,
   "metadata": {},
   "outputs": [
    {
     "name": "stdout",
     "output_type": "stream",
     "text": [
      "du  ['10 0.974915 223.450943 212.449127 380.918396 405.052338']\n",
      "du  ['10 0.49835526315789475 0.5016447368421053 0.24671052631578946 0.34210526315789475']\n"
     ]
    }
   ],
   "source": [
    "print(\"du \", dict_pic_info['2018-03-22-11_28_51_30878_40137_flip'])\n",
    "print(\"du \", dict_pic_label_box_info['2018-03-22-11_28_51_30878_40137_flip'])"
   ]
  },
  {
   "cell_type": "code",
   "execution_count": 15,
   "metadata": {},
   "outputs": [
    {
     "name": "stdout",
     "output_type": "stream",
     "text": [
      "du  [2990, 11623, 350, 28510, 4859, 1255, 153, 260, 3540, 16385, 5310, 1384]\n",
      "du  #####################\n",
      "du  召回率\n",
      "du  #####################\n",
      "du  ASCUS   :        1658  /  1887          RECALL: 0.8786433492315845\n",
      "du  LSIL    :        10223 /  10919         RECALL: 0.9362578990750069\n",
      "du  ASCH    :        151   /  293           RECALL: 0.515358361774744\n",
      "du  HSIL    :        18767 /  20207         RECALL: 0.9287375661899342\n",
      "du  SCC     :        3376  /  3704          RECALL: 0.9114470842332614\n",
      "du  AGC     :        749   /  823           RECALL: 0.9100850546780073\n",
      "du  EC      :        90    /  107           RECALL: 0.8411214953271028\n",
      "du  FUNGI   :        164   /  413           RECALL: 0.39709443099273606\n",
      "du  TRI     :        2666  /  6839          RECALL: 0.38982307354876444\n",
      "du  CC      :        12131 /  12400         RECALL: 0.9783064516129032\n",
      "du  ACTINO  :        4885  /  5102          RECALL: 0.9574676597412779\n",
      "du  VIRUS   :        1303  /  1322          RECALL: 0.9856278366111951\n",
      "du  #####################\n",
      "du  准确率\n",
      "du  #####################\n",
      "du  ASCUS   :        1658  /  2990          ACCURATE: 0.5545150501672241\n",
      "du  LSIL    :        10223 /  11623         ACCURATE: 0.8795491697496344\n",
      "du  ASCH    :        151   /  350           ACCURATE: 0.43142857142857144\n",
      "du  HSIL    :        18767 /  28510         ACCURATE: 0.6582602595580498\n",
      "du  SCC     :        3376  /  4859          ACCURATE: 0.6947931673183783\n",
      "du  AGC     :        749   /  1255          ACCURATE: 0.5968127490039841\n",
      "du  EC      :        90    /  153           ACCURATE: 0.5882352941176471\n",
      "du  FUNGI   :        164   /  260           ACCURATE: 0.6307692307692307\n",
      "du  TRI     :        2666  /  3540          ACCURATE: 0.7531073446327684\n",
      "du  CC      :        12131 /  16385         ACCURATE: 0.7403722917302411\n",
      "du  ACTINO  :        4885  /  5310          ACCURATE: 0.9199623352165726\n",
      "du  VIRUS   :        1303  /  1384          ACCURATE: 0.9414739884393064\n"
     ]
    }
   ],
   "source": [
    "det = 0.05\n",
    "iou = 0.3\n",
    "img_size = 608\n",
    "all_prediction_object_count, prediction_object_count, label_object_count,\\\n",
    "recalls, accurates = cal_evaluate(dict_pic_info, dict_pic_label_box_info,\n",
    "                                  classes, det, iou, img_size)\n",
    "print_evaluate(classes,\n",
    "               all_prediction_object_count, \n",
    "               prediction_object_count, \n",
    "               label_object_count,\n",
    "               recalls, \n",
    "               accurates)"
   ]
  },
  {
   "cell_type": "markdown",
   "metadata": {},
   "source": [
    "\n",
    "\n",
    "\n",
    "\n"
   ]
  },
  {
   "cell_type": "code",
   "execution_count": 11,
   "metadata": {},
   "outputs": [
    {
     "ename": "SyntaxError",
     "evalue": "invalid syntax (<ipython-input-11-64cbf87286ee>, line 5)",
     "output_type": "error",
     "traceback": [
      "\u001b[0;36m  File \u001b[0;32m\"<ipython-input-11-64cbf87286ee>\"\u001b[0;36m, line \u001b[0;32m5\u001b[0m\n\u001b[0;31m    du  召回率\u001b[0m\n\u001b[0m          ^\u001b[0m\n\u001b[0;31mSyntaxError\u001b[0m\u001b[0;31m:\u001b[0m invalid syntax\n"
     ]
    }
   ],
   "source": [
    "\n",
    "\n",
    "du  [4304, 11680, 435, 29775, 4703, 1334, 158, 260, 4388, 16733, 5330, 1501]\n",
    "du  #####################\n",
    "du  召回率\n",
    "du  #####################\n",
    "du  ASCUS   :        1769  /  1887          RECALL: 0.9374668786433492\n",
    "du  LSIL    :        10251 /  10919         RECALL: 0.9388222364685411\n",
    "du  ASCH    :        215   /  293           RECALL: 0.7337883959044369\n",
    "du  HSIL    :        18856 /  20207         RECALL: 0.9331419805018063\n",
    "du  SCC     :        3414  /  3704          RECALL: 0.92170626349892\n",
    "du  AGC     :        758   /  823           RECALL: 0.9210206561360875\n",
    "du  EC      :        105   /  107           RECALL: 0.9813084112149533\n",
    "du  FUNGI   :        156   /  413           RECALL: 0.37772397094430993\n",
    "du  TRI     :        3118  /  6839          RECALL: 0.4559146073987425\n",
    "du  CC      :        12154 /  12400         RECALL: 0.9801612903225806\n",
    "du  ACTINO  :        4894  /  5102          RECALL: 0.9592316738533908\n",
    "du  VIRUS   :        1306  /  1322          RECALL: 0.9878971255673222\n",
    "du  #####################\n",
    "du  准确率\n",
    "du  #####################\n",
    "du  ASCUS   :        1769  /  4304          ACCURATE: 0.41101301115241634\n",
    "du  LSIL    :        10251 /  11680         ACCURATE: 0.8776541095890411\n",
    "du  ASCH    :        215   /  435           ACCURATE: 0.4942528735632184\n",
    "du  HSIL    :        18856 /  29775         ACCURATE: 0.6332829554995801\n",
    "du  SCC     :        3414  /  4703          ACCURATE: 0.7259196257707846\n",
    "du  AGC     :        758   /  1334          ACCURATE: 0.568215892053973\n",
    "du  EC      :        105   /  158           ACCURATE: 0.6645569620253164\n",
    "du  FUNGI   :        156   /  260           ACCURATE: 0.6\n",
    "du  TRI     :        3118  /  4388          ACCURATE: 0.7105742935278031\n",
    "du  CC      :        12154 /  16733         ACCURATE: 0.7263491304607661\n",
    "du  ACTINO  :        4894  /  5330          ACCURATE: 0.9181988742964353\n",
    "du  VIRUS   :        1306  /  1501          ACCURATE: 0.8700866089273818"
   ]
  },
  {
   "cell_type": "code",
   "execution_count": null,
   "metadata": {},
   "outputs": [],
   "source": [
    "\n",
    "\n",
    "du  [4304, 11680, 435, 29775, 4703, 1334, 158, 260, 4388, 16733, 5330, 1501]\n",
    "du  #####################\n",
    "du  召回率\n",
    "du  #####################\n",
    "du  ASCUS   :        1718  /  1887          RECALL: 0.9104398516163222\n",
    "du  LSIL    :        10195 /  10919         RECALL: 0.9336935616814727\n",
    "du  ASCH    :        159   /  293           RECALL: 0.5426621160409556\n",
    "du  HSIL    :        18814 /  20207         RECALL: 0.9310634928490127\n",
    "du  SCC     :        3357  /  3704          RECALL: 0.906317494600432\n",
    "du  AGC     :        752   /  823           RECALL: 0.913730255164034\n",
    "du  EC      :        91    /  107           RECALL: 0.8504672897196262\n",
    "du  FUNGI   :        155   /  413           RECALL: 0.37530266343825663\n",
    "du  TRI     :        3118  /  6839          RECALL: 0.4559146073987425\n",
    "du  CC      :        12152 /  12400         RECALL: 0.98\n",
    "du  ACTINO  :        4894  /  5102          RECALL: 0.9592316738533908\n",
    "du  VIRUS   :        1303  /  1322          RECALL: 0.9856278366111951\n",
    "du  #####################\n",
    "du  准确率\n",
    "du  #####################\n",
    "du  ASCUS   :        1718  /  4304          ACCURATE: 0.3991635687732342\n",
    "du  LSIL    :        10195 /  11680         ACCURATE: 0.8728595890410958\n",
    "du  ASCH    :        159   /  435           ACCURATE: 0.36551724137931035\n",
    "du  HSIL    :        18814 /  29775         ACCURATE: 0.631872376154492\n",
    "du  SCC     :        3357  /  4703          ACCURATE: 0.7137997023176695\n",
    "du  AGC     :        752   /  1334          ACCURATE: 0.5637181409295352\n",
    "du  EC      :        91    /  158           ACCURATE: 0.5759493670886076\n",
    "du  FUNGI   :        155   /  260           ACCURATE: 0.5961538461538461\n",
    "du  TRI     :        3118  /  4388          ACCURATE: 0.7105742935278031\n",
    "du  CC      :        12152 /  16733         ACCURATE: 0.7262296061674536\n",
    "du  ACTINO  :        4894  /  5330          ACCURATE: 0.9181988742964353\n",
    "du  VIRUS   :        1303  /  1501          ACCURATE: 0.8680879413724184"
   ]
  }
 ],
 "metadata": {
  "kernelspec": {
   "display_name": "Python 3",
   "language": "python",
   "name": "python3"
  },
  "language_info": {
   "codemirror_mode": {
    "name": "ipython",
    "version": 3
   },
   "file_extension": ".py",
   "mimetype": "text/x-python",
   "name": "python",
   "nbconvert_exporter": "python",
   "pygments_lexer": "ipython3",
   "version": "3.5.6"
  }
 },
 "nbformat": 4,
 "nbformat_minor": 2
}
